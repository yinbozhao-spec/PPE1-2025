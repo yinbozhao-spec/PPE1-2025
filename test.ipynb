{
 "cells": [
  {
   "cell_type": "code",
   "execution_count": 2,
   "id": "31269c2e-c726-48e7-9882-4cf172fc4aae",
   "metadata": {
    "tags": []
   },
   "outputs": [
    {
     "name": "stdin",
     "output_type": "stream",
     "text": [
      "entraîner une chaîne: hello\n"
     ]
    },
    {
     "name": "stdout",
     "output_type": "stream",
     "text": [
      "h*e*l*l*o\n"
     ]
    }
   ],
   "source": [
    "ch=input(\"entraîner une chaîne:\")\n",
    "a=\"\"\n",
    "for i in range(len(ch)-1):\n",
    "  a+=ch[i]+\"*\"\n",
    "print(a+ch[(len(ch))-1])"
   ]
  },
  {
   "cell_type": "code",
   "execution_count": null,
   "id": "638dbf64-d689-4734-9d46-1a022bada73f",
   "metadata": {},
   "outputs": [],
   "source": []
  }
 ],
 "metadata": {
  "kernelspec": {
   "display_name": "Python 3 (ipykernel)",
   "language": "python",
   "name": "python3"
  },
  "language_info": {
   "codemirror_mode": {
    "name": "ipython",
    "version": 3
   },
   "file_extension": ".py",
   "mimetype": "text/x-python",
   "name": "python",
   "nbconvert_exporter": "python",
   "pygments_lexer": "ipython3",
   "version": "3.11.5"
  }
 },
 "nbformat": 4,
 "nbformat_minor": 5
}
