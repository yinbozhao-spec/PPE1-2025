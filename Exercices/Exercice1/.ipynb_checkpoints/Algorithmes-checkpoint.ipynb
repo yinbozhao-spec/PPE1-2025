{
 "cells": [
  {
   "cell_type": "code",
   "execution_count": 5,
   "id": "9686994b-7535-47f3-9141-bc1cb90c5b21",
   "metadata": {
    "tags": []
   },
   "outputs": [
    {
     "name": "stdout",
     "output_type": "stream",
     "text": [
      "0 : <class 'int'>\n",
      "1 : <class 'int'>\n",
      "2 : <class 'int'>\n",
      "3 : <class 'int'>\n",
      "4 : <class 'int'>\n",
      "5 : <class 'int'>\n",
      "6 : <class 'int'>\n",
      "7 : <class 'int'>\n",
      "8 : <class 'int'>\n",
      "9 : <class 'int'>\n",
      "10 : <class 'int'>\n",
      "11 : <class 'int'>\n",
      "12 : <class 'int'>\n",
      "13 : <class 'int'>\n",
      "14 : <class 'int'>\n",
      "15 : <class 'int'>\n",
      "16 : <class 'int'>\n",
      "17 : <class 'int'>\n",
      "18 : <class 'int'>\n",
      "19 : <class 'int'>\n",
      "20 : <class 'int'>\n",
      "21 : <class 'int'>\n",
      "22 : <class 'int'>\n",
      "23 : <class 'int'>\n",
      "24 : <class 'int'>\n",
      "25 : <class 'int'>\n",
      "26 : <class 'int'>\n",
      "27 : <class 'int'>\n",
      "28 : <class 'int'>\n",
      "29 : <class 'int'>\n",
      "30 : <class 'int'>\n",
      "31 : <class 'int'>\n",
      "32 : <class 'int'>\n",
      "33 : <class 'int'>\n",
      "34 : <class 'int'>\n",
      "35 : <class 'int'>\n",
      "36 : <class 'int'>\n",
      "37 : <class 'int'>\n",
      "38 : <class 'int'>\n",
      "39 : <class 'int'>\n",
      "40 : <class 'int'>\n",
      "41 : <class 'int'>\n",
      "42 : <class 'int'>\n",
      "43 : <class 'int'>\n",
      "44 : <class 'int'>\n",
      "45 : <class 'int'>\n",
      "46 : <class 'int'>\n",
      "47 : <class 'int'>\n",
      "48 : <class 'int'>\n",
      "49 : <class 'int'>\n"
     ]
    }
   ],
   "source": [
    "for i in range(50):\n",
    "    print(i,':',type(i))"
   ]
  },
  {
   "cell_type": "code",
   "execution_count": 6,
   "id": "4de1601c-2468-4ee8-9556-0b500b6c999b",
   "metadata": {
    "tags": []
   },
   "outputs": [
    {
     "name": "stdout",
     "output_type": "stream",
     "text": [
      "0\n",
      "1\n",
      "2\n"
     ]
    }
   ],
   "source": [
    "for i in range(3):\n",
    "    print(i)"
   ]
  },
  {
   "cell_type": "code",
   "execution_count": 7,
   "id": "bac7d954-50c4-4120-ae53-4e47075dcffc",
   "metadata": {
    "tags": []
   },
   "outputs": [
    {
     "name": "stdout",
     "output_type": "stream",
     "text": [
      "2\n",
      "3\n",
      "4\n",
      "5\n",
      "6\n",
      "7\n"
     ]
    }
   ],
   "source": [
    "for i in range(2,8):\n",
    "    print(i)"
   ]
  },
  {
   "cell_type": "code",
   "execution_count": 9,
   "id": "cc481229-6f2a-4ae0-b7b6-b069af0e8a0c",
   "metadata": {
    "tags": []
   },
   "outputs": [
    {
     "name": "stdout",
     "output_type": "stream",
     "text": [
      "0\n",
      "7\n",
      "14\n",
      "21\n",
      "28\n",
      "35\n"
     ]
    }
   ],
   "source": [
    "for i in range(0,42,7):\n",
    "    print(i)"
   ]
  },
  {
   "cell_type": "code",
   "execution_count": 12,
   "id": "f21c89a8-0157-42fb-85d7-bfe281eb6dd1",
   "metadata": {
    "tags": []
   },
   "outputs": [
    {
     "name": "stdout",
     "output_type": "stream",
     "text": [
      "2\n",
      "3\n",
      "4\n",
      "5\n",
      "6\n",
      "7\n"
     ]
    }
   ],
   "source": [
    "for i in range(2,8):\n",
    "    print(i)"
   ]
  },
  {
   "cell_type": "code",
   "execution_count": 14,
   "id": "904143bc-1f80-48fc-9bc5-4ded08880e1b",
   "metadata": {
    "tags": []
   },
   "outputs": [
    {
     "name": "stdout",
     "output_type": "stream",
     "text": [
      "10\n",
      "9\n",
      "8\n",
      "7\n",
      "6\n",
      "5\n",
      "4\n",
      "3\n",
      "2\n",
      "1\n"
     ]
    }
   ],
   "source": [
    "for i in range(10,0,-1):\n",
    "    print(i)"
   ]
  },
  {
   "cell_type": "code",
   "execution_count": 15,
   "id": "7598e878-5708-4684-a3e6-e7688617119d",
   "metadata": {
    "tags": []
   },
   "outputs": [
    {
     "name": "stdout",
     "output_type": "stream",
     "text": [
      "42\n",
      "35\n",
      "28\n",
      "21\n",
      "14\n",
      "7\n"
     ]
    }
   ],
   "source": [
    "for i in range(42,0,-7):\n",
    "    print(i)"
   ]
  },
  {
   "cell_type": "code",
   "execution_count": 19,
   "id": "33f9822c-9058-47ea-8072-d7d90ea4f8aa",
   "metadata": {
    "tags": []
   },
   "outputs": [
    {
     "name": "stdout",
     "output_type": "stream",
     "text": [
      "C i t\n"
     ]
    }
   ],
   "source": [
    "ch = \"Christine\"\n",
    "print(ch[0], ch[3], ch[5])"
   ]
  },
  {
   "cell_type": "code",
   "execution_count": 22,
   "id": "c6529d7b-8257-45a8-9a9f-fe591892978f",
   "metadata": {
    "tags": []
   },
   "outputs": [
    {
     "name": "stdout",
     "output_type": "stream",
     "text": [
      "e r c\n",
      "c i d\n",
      "6\n"
     ]
    }
   ],
   "source": [
    "nom='Cedric'\n",
    "print(nom[1],nom[3],nom[5])\n",
    "print(nom[-1],nom[-2],nom[-4])\n",
    "print(len(nom))"
   ]
  },
  {
   "cell_type": "code",
   "execution_count": 25,
   "id": "9311d728-1821-4a52-a7ef-d0ac47867e5b",
   "metadata": {
    "tags": []
   },
   "outputs": [
    {
     "name": "stdout",
     "output_type": "stream",
     "text": [
      "Chr\n",
      "istine\n"
     ]
    }
   ],
   "source": [
    "ch = \"Christine\"\n",
    "print(ch[:3]) # les 3 premiers caractères\n",
    "print(ch[3:]) # tout ce qui suit les 3 premiers caractères"
   ]
  },
  {
   "cell_type": "code",
   "execution_count": 27,
   "id": "b1ef095f-dd86-46f8-9edc-5122abf6f379",
   "metadata": {
    "tags": []
   },
   "outputs": [
    {
     "name": "stdout",
     "output_type": "stream",
     "text": [
      "Petit poisson deviendra grand\n"
     ]
    }
   ],
   "source": [
    "a = 'Petit poisson'\n",
    "b= ' deviendra grand'\n",
    "c = a+b\n",
    "print(c)"
   ]
  },
  {
   "cell_type": "code",
   "execution_count": 29,
   "id": "7117d663-1037-4225-8efd-f9ded53304d9",
   "metadata": {
    "tags": []
   },
   "outputs": [
    {
     "name": "stdout",
     "output_type": "stream",
     "text": [
      "abcdef zut!zut!zut!zut!\n"
     ]
    }
   ],
   "source": [
    "n='abc'+'def'\n",
    "m='zut!'*4\n",
    "print(n,m)"
   ]
  },
  {
   "cell_type": "code",
   "execution_count": 30,
   "id": "2e40d749-8765-44fb-8534-59d7425c21d2",
   "metadata": {
    "tags": []
   },
   "outputs": [
    {
     "name": "stdout",
     "output_type": "stream",
     "text": [
      "e est une voyelle\n"
     ]
    }
   ],
   "source": [
    "car=\"e\"\n",
    "voyelles=\"aeioyAEI\"\n",
    "if car in voyelles:\n",
    "    print(car, \"est une voyelle\")"
   ]
  },
  {
   "cell_type": "code",
   "execution_count": 31,
   "id": "456831ff-894a-4825-99f9-973a9eb0d1ea",
   "metadata": {
    "tags": []
   },
   "outputs": [
    {
     "ename": "TypeError",
     "evalue": "'str' object does not support item assignment",
     "output_type": "error",
     "traceback": [
      "\u001b[0;31m---------------------------------------------------------------------------\u001b[0m",
      "\u001b[0;31mTypeError\u001b[0m                                 Traceback (most recent call last)",
      "Cell \u001b[0;32mIn[31], line 2\u001b[0m\n\u001b[1;32m      1\u001b[0m salut\u001b[38;5;241m=\u001b[39m\u001b[38;5;124m'\u001b[39m\u001b[38;5;124mbonjour tout le monde\u001b[39m\u001b[38;5;124m'\u001b[39m\n\u001b[0;32m----> 2\u001b[0m salut[\u001b[38;5;241m0\u001b[39m]\u001b[38;5;241m=\u001b[39m\u001b[38;5;124m'\u001b[39m\u001b[38;5;124mB\u001b[39m\u001b[38;5;124m'\u001b[39m\n\u001b[1;32m      3\u001b[0m \u001b[38;5;28mprint\u001b[39m(salut)\n",
      "\u001b[0;31mTypeError\u001b[0m: 'str' object does not support item assignment"
     ]
    }
   ],
   "source": [
    "salut='bonjour tout le monde'\n",
    "salut[0]='B'\n",
    "print(salut)"
   ]
  },
  {
   "cell_type": "code",
   "execution_count": 32,
   "id": "5d6c04a5-72c3-437f-b3d0-632c080863ef",
   "metadata": {
    "tags": []
   },
   "outputs": [
    {
     "name": "stdout",
     "output_type": "stream",
     "text": [
      "Bonjour tout le monde\n"
     ]
    }
   ],
   "source": [
    "salut='bonjour tout le monde'\n",
    "salut='B'+salut[1:]\n",
    "print(salut)"
   ]
  },
  {
   "cell_type": "code",
   "execution_count": 44,
   "id": "a742fb78-5db4-40f6-a57b-98c7422b2f80",
   "metadata": {
    "tags": []
   },
   "outputs": [
    {
     "name": "stdout",
     "output_type": "stream",
     "text": [
      "le mot Hello précède le mot 'iello' dans l'ordre alphabétique\n"
     ]
    }
   ],
   "source": [
    "n=\"Hello\"\n",
    "if n<\"iello\":\n",
    "    place=\"précède\"\n",
    "elif n>\"iello\":\n",
    "    place=\"suit\"\n",
    "else:\n",
    "    place=\"se confond avec\"\n",
    "print(\"le mot\",n,place,\"le mot 'iello' dans l'ordre alphabétique\")"
   ]
  },
  {
   "cell_type": "code",
   "execution_count": 45,
   "id": "f8a65dff-c4d6-4140-bd93-695c7d39f823",
   "metadata": {
    "tags": []
   },
   "outputs": [
    {
     "name": "stdout",
     "output_type": "stream",
     "text": [
      "3 2\n"
     ]
    }
   ],
   "source": [
    "a=3\n",
    "b=2\n",
    "print(a,b)"
   ]
  },
  {
   "cell_type": "code",
   "execution_count": 46,
   "id": "e75aaec5-2f81-4c8b-a492-13cd835bffce",
   "metadata": {
    "tags": []
   },
   "outputs": [
    {
     "name": "stdout",
     "output_type": "stream",
     "text": [
      "Bonjour*a*tous\n"
     ]
    }
   ],
   "source": [
    "print(\"Bonjour\",\"a\",\"tous\",sep=\"*\")"
   ]
  },
  {
   "cell_type": "code",
   "execution_count": 47,
   "id": "dea9d8d3-9da0-4b7b-af81-084601ad64b4",
   "metadata": {
    "tags": []
   },
   "outputs": [
    {
     "name": "stdout",
     "output_type": "stream",
     "text": [
      "Bonjouratous\n"
     ]
    }
   ],
   "source": [
    "print(\"Bonjour\",\"a\",\"tous\",sep=\"\")"
   ]
  },
  {
   "cell_type": "code",
   "execution_count": 48,
   "id": "9529b46a-b28a-4c69-a38c-df799a13e8ed",
   "metadata": {
    "tags": []
   },
   "outputs": [
    {
     "name": "stdout",
     "output_type": "stream",
     "text": [
      "zutzutzutzutzutzut"
     ]
    }
   ],
   "source": [
    "n=0\n",
    "while n<6:\n",
    "    print(\"zut\",end=\"\")\n",
    "    n=n+1"
   ]
  },
  {
   "cell_type": "code",
   "execution_count": 49,
   "id": "58db84ee-63ad-42cf-b428-940594032c0a",
   "metadata": {
    "tags": []
   },
   "outputs": [
    {
     "name": "stdout",
     "output_type": "stream",
     "text": [
      "zut*zut*zut*zut*zut*zut*"
     ]
    }
   ],
   "source": [
    "n=0\n",
    "while n<6:\n",
    "    print(\"zut\",end=\"*\")\n",
    "    n=n+1"
   ]
  },
  {
   "cell_type": "code",
   "execution_count": 50,
   "id": "bda2fede-9bfc-4dee-b3da-6edba6fe2953",
   "metadata": {
    "tags": []
   },
   "outputs": [
    {
     "name": "stdin",
     "output_type": "stream",
     "text": [
      "Entrez votre prenom Alice\n"
     ]
    },
    {
     "name": "stdout",
     "output_type": "stream",
     "text": [
      "Bonjour Alice\n"
     ]
    }
   ],
   "source": [
    "prenom=input(\"Entrez votre prenom\")\n",
    "print(\"Bonjour\",prenom)"
   ]
  },
  {
   "cell_type": "code",
   "execution_count": 52,
   "id": "4355bb86-2caf-4484-818d-831631a791ae",
   "metadata": {
    "tags": []
   },
   "outputs": [
    {
     "name": "stdin",
     "output_type": "stream",
     "text": [
      "Entrez une donnee numerique :  54\n"
     ]
    },
    {
     "data": {
      "text/plain": [
       "str"
      ]
     },
     "execution_count": 52,
     "metadata": {},
     "output_type": "execute_result"
    }
   ],
   "source": [
    "a=input(\"Entrez une donnee numerique : \")\n",
    "type(a)\n"
   ]
  },
  {
   "cell_type": "code",
   "execution_count": 53,
   "id": "998903ef-836a-4339-a1bf-16c40b4708f1",
   "metadata": {
    "tags": []
   },
   "outputs": [
    {
     "name": "stdin",
     "output_type": "stream",
     "text": [
      "Entrez une donnee numerique :  54\n"
     ]
    },
    {
     "data": {
      "text/plain": [
       "float"
      ]
     },
     "execution_count": 53,
     "metadata": {},
     "output_type": "execute_result"
    }
   ],
   "source": [
    "a=input(\"Entrez une donnee numerique : \")\n",
    "type(a)\n",
    "b=float(a)\n",
    "type(b)"
   ]
  },
  {
   "cell_type": "code",
   "execution_count": 54,
   "id": "0eda8630-be09-431d-b631-403b31d56a9f",
   "metadata": {
    "tags": []
   },
   "outputs": [
    {
     "name": "stdout",
     "output_type": "stream",
     "text": [
      "7\n"
     ]
    }
   ],
   "source": [
    "ch='Georges'\n",
    "print(len(ch))"
   ]
  },
  {
   "cell_type": "code",
   "execution_count": 55,
   "id": "258f4917-d70a-4a60-ab8c-2f712a20ad3c",
   "metadata": {
    "tags": []
   },
   "outputs": [
    {
     "name": "stdout",
     "output_type": "stream",
     "text": [
      "17.36\n"
     ]
    }
   ],
   "source": [
    "a=float(\"12.36\")\n",
    "print(a+5)"
   ]
  },
  {
   "cell_type": "code",
   "execution_count": 56,
   "id": "9b8c5211-5936-4181-9f8b-0e952b90ccc4",
   "metadata": {
    "tags": []
   },
   "outputs": [
    {
     "name": "stdout",
     "output_type": "stream",
     "text": [
      "17.36\n"
     ]
    }
   ],
   "source": [
    "a=float(12.36)\n",
    "print(a+5)"
   ]
  },
  {
   "cell_type": "code",
   "execution_count": 57,
   "id": "ee77253c-4fc8-46b2-9055-c01131746141",
   "metadata": {
    "tags": []
   },
   "outputs": [
    {
     "name": "stdout",
     "output_type": "stream",
     "text": [
      "204\n"
     ]
    }
   ],
   "source": [
    "a=int(\"184\")\n",
    "print(a+20)"
   ]
  },
  {
   "cell_type": "code",
   "execution_count": 59,
   "id": "323aa7c5-b7bc-4523-943a-49b879035705",
   "metadata": {
    "tags": []
   },
   "outputs": [
    {
     "name": "stdout",
     "output_type": "stream",
     "text": [
      "17 est un entier['Emile', 7.65] est une liste.\n"
     ]
    }
   ],
   "source": [
    "a,b=17,[\"Emile\",7.65]\n",
    "ch=str(a)+\" est un entier\"+str(b)+\" est une liste.\"\n",
    "print(ch)"
   ]
  },
  {
   "cell_type": "code",
   "execution_count": 60,
   "id": "02812280-e06d-4b75-95bd-6f97efcd0373",
   "metadata": {
    "tags": []
   },
   "outputs": [
    {
     "ename": "TypeError",
     "evalue": "can only concatenate str (not \"int\") to str",
     "output_type": "error",
     "traceback": [
      "\u001b[0;31m---------------------------------------------------------------------------\u001b[0m",
      "\u001b[0;31mTypeError\u001b[0m                                 Traceback (most recent call last)",
      "Cell \u001b[0;32mIn[60], line 2\u001b[0m\n\u001b[1;32m      1\u001b[0m ch\u001b[38;5;241m=\u001b[39m\u001b[38;5;124m'\u001b[39m\u001b[38;5;124m8647\u001b[39m\u001b[38;5;124m'\u001b[39m\n\u001b[0;32m----> 2\u001b[0m \u001b[38;5;28mprint\u001b[39m(ch\u001b[38;5;241m+\u001b[39m\u001b[38;5;241m45\u001b[39m)\n",
      "\u001b[0;31mTypeError\u001b[0m: can only concatenate str (not \"int\") to str"
     ]
    }
   ],
   "source": [
    "ch='8647'\n",
    "print(ch+45)"
   ]
  },
  {
   "cell_type": "code",
   "execution_count": 61,
   "id": "e4634e9c-a0c8-45ef-b0da-de20b9ea7a90",
   "metadata": {
    "tags": []
   },
   "outputs": [
    {
     "name": "stdout",
     "output_type": "stream",
     "text": [
      "8712\n"
     ]
    }
   ],
   "source": [
    "n=int(ch)\n",
    "print(n+65)"
   ]
  },
  {
   "cell_type": "code",
   "execution_count": 62,
   "id": "64d43900-a5ac-4fe6-a0ad-8ee5ebf527cc",
   "metadata": {
    "tags": []
   },
   "outputs": [
    {
     "name": "stdout",
     "output_type": "stream",
     "text": [
      "['Votez', 'pour', 'moi']\n"
     ]
    }
   ],
   "source": [
    "c2=\"Votez pour moi\"\n",
    "a=c2.split()\n",
    "print(a)"
   ]
  },
  {
   "cell_type": "code",
   "execution_count": 63,
   "id": "2f67251e-8e2a-498e-ae05-7dfddcd729c9",
   "metadata": {
    "tags": []
   },
   "outputs": [
    {
     "data": {
      "text/plain": [
       "['Cet exemple', \"parmi d'autres\", 'peut encore servir']"
      ]
     },
     "execution_count": 63,
     "metadata": {},
     "output_type": "execute_result"
    }
   ],
   "source": [
    "c4=\"Cet exemple,parmi d'autres,peut encore servir\"\n",
    "c4.split(\",\")"
   ]
  },
  {
   "cell_type": "code",
   "execution_count": 64,
   "id": "703bdaf4-75f0-4781-ae2c-3dec99abc770",
   "metadata": {
    "tags": []
   },
   "outputs": [
    {
     "name": "stdout",
     "output_type": "stream",
     "text": [
      "Ilamangédufoin\n"
     ]
    }
   ],
   "source": [
    "b=[\"Il\",\"a\",\"mangé\",\"du\",\"foin\"]\n",
    "print(\"\".join(b))"
   ]
  },
  {
   "cell_type": "code",
   "execution_count": 65,
   "id": "e737d3a0-27bb-4a64-b5bc-9609ced76526",
   "metadata": {
    "tags": []
   },
   "outputs": [
    {
     "name": "stdout",
     "output_type": "stream",
     "text": [
      "Il---a---mangé---du---foin\n"
     ]
    }
   ],
   "source": [
    "print(\"---\".join(b))"
   ]
  },
  {
   "cell_type": "code",
   "execution_count": 68,
   "id": "d5a41b3e-9a3a-40e4-9191-0924f27f9ce9",
   "metadata": {
    "tags": []
   },
   "outputs": [
    {
     "name": "stdout",
     "output_type": "stream",
     "text": [
      "25\n"
     ]
    }
   ],
   "source": [
    "ch1=\"Cette leçon vaut bien un fromage, sans doute?\"\n",
    "ch2=\"fromage\"\n",
    "print(ch1.find(ch2))"
   ]
  },
  {
   "cell_type": "code",
   "execution_count": 69,
   "id": "5db9d5c8-0c31-42a4-8458-50ff7e8eaf91",
   "metadata": {
    "tags": []
   },
   "outputs": [
    {
     "name": "stdout",
     "output_type": "stream",
     "text": [
      "2\n"
     ]
    }
   ],
   "source": [
    "ch1=\"Le heron au long bec emmanche d'un long cou\"\n",
    "ch2='long'\n",
    "print(ch1.count(ch2))"
   ]
  },
  {
   "cell_type": "code",
   "execution_count": 70,
   "id": "a0e6cddb-2c8b-4953-a26a-2ad35c22c0ad",
   "metadata": {
    "tags": []
   },
   "outputs": [
    {
     "name": "stdout",
     "output_type": "stream",
     "text": [
      "2\n"
     ]
    }
   ],
   "source": [
    "ch1=\"Le heron au long bec emmanche d'un long cou\"\n",
    "ch2=\"long\"\n",
    "print(ch1.count(ch2))"
   ]
  },
  {
   "cell_type": "code",
   "execution_count": 71,
   "id": "932ef877-c4ad-43fc-9d4e-ab44c968c8d8",
   "metadata": {
    "tags": []
   },
   "outputs": [
    {
     "name": "stdout",
     "output_type": "stream",
     "text": [
      "celimene est un prenom ancien\n"
     ]
    }
   ],
   "source": [
    "ch=\"CELIMENE est un prenom ancien\"\n",
    "print(ch.lower())"
   ]
  },
  {
   "cell_type": "code",
   "execution_count": 72,
   "id": "6005bad7-a57f-4b59-84ac-51ffb35f5e04",
   "metadata": {
    "tags": []
   },
   "outputs": [
    {
     "name": "stdout",
     "output_type": "stream",
     "text": [
      "Albert Rene Elise Veronique\n"
     ]
    }
   ],
   "source": [
    "ch=\"albert rene elise veronique\"\n",
    "print(ch.title())"
   ]
  },
  {
   "cell_type": "code",
   "execution_count": 73,
   "id": "130e18e9-37a2-4ae6-91d2-28c39bfe106b",
   "metadata": {
    "tags": []
   },
   "outputs": [
    {
     "name": "stdout",
     "output_type": "stream",
     "text": [
      "Quel beau temps, aujourd'hui!\n"
     ]
    }
   ],
   "source": [
    "b3=\"quel beau temps, aujourd'hui!\"\n",
    "print(b3.capitalize())"
   ]
  },
  {
   "cell_type": "code",
   "execution_count": 74,
   "id": "26022278-2170-4213-b0ab-8e16e6880fff",
   "metadata": {
    "tags": []
   },
   "outputs": [
    {
     "name": "stdout",
     "output_type": "stream",
     "text": [
      "lE lIEVRE eT lA tORTUE\n"
     ]
    }
   ],
   "source": [
    "ch=\"Le Lievre Et La Tortue\"\n",
    "print(ch.swapcase())"
   ]
  },
  {
   "cell_type": "code",
   "execution_count": 75,
   "id": "a653d1a0-1887-4bcb-9aa5-f273a5605f01",
   "metadata": {
    "tags": []
   },
   "outputs": [
    {
     "data": {
      "text/plain": [
       "'Monty Python'"
      ]
     },
     "execution_count": 75,
     "metadata": {},
     "output_type": "execute_result"
    }
   ],
   "source": [
    "ch=\" Monty Python \"\n",
    "ch.strip()"
   ]
  },
  {
   "cell_type": "code",
   "execution_count": 77,
   "id": "a1774e7e-e007-4d49-9edf-1de058b39568",
   "metadata": {
    "tags": []
   },
   "outputs": [
    {
     "name": "stdout",
     "output_type": "stream",
     "text": [
      "Si*ce*n'est*pas*toi*c'est*donc*ton*frere\n"
     ]
    }
   ],
   "source": [
    "ch8=\"Si ce n'est pas toi c'est donc ton frere\"\n",
    "print(ch8.replace(\" \",\"*\"))"
   ]
  },
  {
   "cell_type": "code",
   "execution_count": 78,
   "id": "37e28840-df70-48f5-b1e0-2f026d4b8290",
   "metadata": {
    "tags": []
   },
   "outputs": [
    {
     "name": "stdout",
     "output_type": "stream",
     "text": [
      "*S*i* *c*e* *n*'*e*s*t* *p*a*s* *t*o*i* *c*'*e*s*t* *d*o*n*c* *t*o*n* *f*r*e*r*e*\n"
     ]
    }
   ],
   "source": [
    "ch8=\"Si ce n'est pas toi c'est donc ton frere\"\n",
    "print(ch8.replace(\"\",\"*\"))"
   ]
  },
  {
   "cell_type": "code",
   "execution_count": 79,
   "id": "43aa2078-7d08-4b6b-a195-9aac7a5e9609",
   "metadata": {
    "tags": []
   },
   "outputs": [
    {
     "name": "stdout",
     "output_type": "stream",
     "text": [
      "16\n"
     ]
    }
   ],
   "source": [
    "ch9=\"Portez ce vieux whisky au juge blond qui fume\"\n",
    "print(ch9.index(\"w\"))"
   ]
  },
  {
   "cell_type": "code",
   "execution_count": 80,
   "id": "3494c8f4-fee9-4e44-8304-bd74aac57e06",
   "metadata": {
    "tags": []
   },
   "outputs": [
    {
     "name": "stdout",
     "output_type": "stream",
     "text": [
      "4\n",
      "8\n",
      "29\n"
     ]
    }
   ],
   "source": [
    "ch9=\"Portez ce vieux whisky au juge blond qui fume\"\n",
    "print(ch9.index(\"e\")) \n",
    "print(ch9.index(\"e\",5))\n",
    "print(ch9.index(\"e\",15))"
   ]
  },
  {
   "cell_type": "code",
   "execution_count": null,
   "id": "604aa21f-9de9-496d-aff3-8c83e0a1d99d",
   "metadata": {},
   "outputs": [],
   "source": [
    "ch9=\"Portez ce vieux whisky au juge blond qui fume\"\n",
    "print(ch9.index(\"e))"
   ]
  },
  {
   "cell_type": "code",
   "execution_count": 81,
   "id": "b2a81c76-f030-42f2-b3d6-3cf17aae968d",
   "metadata": {
    "tags": []
   },
   "outputs": [
    {
     "name": "stdout",
     "output_type": "stream",
     "text": [
      "25\n"
     ]
    }
   ],
   "source": [
    "ch1=\"Cette lecon vaut bien un fromage,sans doute?\"\n",
    "ch2=\"fromage\"\n",
    "print(ch1.find(ch2))"
   ]
  },
  {
   "cell_type": "code",
   "execution_count": 83,
   "id": "3939297b-df5f-45b5-a255-ea5c6f990e66",
   "metadata": {
    "tags": []
   },
   "outputs": [
    {
     "name": "stdout",
     "output_type": "stream",
     "text": [
      "La solution est devenue verte et sa temperature atteint 12.7 C\n"
     ]
    }
   ],
   "source": [
    "coul=\"verte\"\n",
    "temp=12.7\n",
    "print(\"La solution est devenue\",coul,\"et sa temperature atteint\",str(temp),\"C\")"
   ]
  },
  {
   "cell_type": "code",
   "execution_count": 84,
   "id": "36a1e4d5-7c3a-4070-b06f-acc8ea3e3594",
   "metadata": {
    "tags": []
   },
   "outputs": [
    {
     "name": "stdin",
     "output_type": "stream",
     "text": [
      "Entrez un nombre entier quelconque 543\n"
     ]
    },
    {
     "name": "stdout",
     "output_type": "stream",
     "text": [
      "vrai\n"
     ]
    }
   ],
   "source": [
    "ch=input('Entrez un nombre entier quelconque')\n",
    "n=int(ch)\n",
    "if n:\n",
    "    print(\"vrai\")\n",
    "else:\n",
    "    print(\"faux\")"
   ]
  },
  {
   "cell_type": "code",
   "execution_count": 85,
   "id": "150d44d3-64fa-4a26-bfca-2fec2ea789ea",
   "metadata": {
    "tags": []
   },
   "outputs": [
    {
     "name": "stdin",
     "output_type": "stream",
     "text": [
      "Entrez un nombre entier quelconque dd\n"
     ]
    },
    {
     "ename": "ValueError",
     "evalue": "invalid literal for int() with base 10: 'dd'",
     "output_type": "error",
     "traceback": [
      "\u001b[0;31m---------------------------------------------------------------------------\u001b[0m",
      "\u001b[0;31mValueError\u001b[0m                                Traceback (most recent call last)",
      "Cell \u001b[0;32mIn[85], line 2\u001b[0m\n\u001b[1;32m      1\u001b[0m ch\u001b[38;5;241m=\u001b[39m\u001b[38;5;28minput\u001b[39m(\u001b[38;5;124m'\u001b[39m\u001b[38;5;124mEntrez un nombre entier quelconque\u001b[39m\u001b[38;5;124m'\u001b[39m)\n\u001b[0;32m----> 2\u001b[0m n\u001b[38;5;241m=\u001b[39m\u001b[38;5;28mint\u001b[39m(ch)\n\u001b[1;32m      3\u001b[0m \u001b[38;5;28;01mif\u001b[39;00m n:\n\u001b[1;32m      4\u001b[0m     \u001b[38;5;28mprint\u001b[39m(\u001b[38;5;124m\"\u001b[39m\u001b[38;5;124mvrai\u001b[39m\u001b[38;5;124m\"\u001b[39m)\n",
      "\u001b[0;31mValueError\u001b[0m: invalid literal for int() with base 10: 'dd'"
     ]
    }
   ],
   "source": [
    "ch=input('Entrez un nombre entier quelconque')\n",
    "n=int(ch)\n",
    "if n:\n",
    "    print(\"vrai\")\n",
    "else:\n",
    "    print(\"faux\")"
   ]
  },
  {
   "cell_type": "code",
   "execution_count": 88,
   "id": "a07ca573-6cd6-4af1-8150-86bf072753cb",
   "metadata": {
    "tags": []
   },
   "outputs": [
    {
     "name": "stdin",
     "output_type": "stream",
     "text": [
      "Entrez une chaine de caracteres quelconque \n"
     ]
    },
    {
     "name": "stdout",
     "output_type": "stream",
     "text": [
      "faux\n"
     ]
    }
   ],
   "source": [
    "ch=input(\"Entrez une chaine de caracteres quelconque\")\n",
    "if ch:\n",
    "    print(\"vrai\")\n",
    "else:\n",
    "    print(\"faux\")"
   ]
  },
  {
   "cell_type": "code",
   "execution_count": 90,
   "id": "d77c0d0d-bd9f-498b-a830-e5a277cbd231",
   "metadata": {
    "tags": []
   },
   "outputs": [
    {
     "name": "stdin",
     "output_type": "stream",
     "text": [
      "Veuillez entrer un nombre:  43\n"
     ]
    },
    {
     "name": "stdout",
     "output_type": "stream",
     "text": [
      "Il s'agit d'un nombre impair.\n"
     ]
    }
   ],
   "source": [
    "ch=input(\"Veuillez entrer un nombre: \")\n",
    "n=int(ch)\n",
    "if n % 2:\n",
    "         print(\"Il s'agit d'un nombre impair.\")\n",
    "else:\n",
    "         print(\"Il s'agit d'un nombre pair.\")"
   ]
  },
  {
   "cell_type": "code",
   "execution_count": 93,
   "id": "cfcae482-1c5b-4418-bb94-29135e6f5f0d",
   "metadata": {
    "tags": []
   },
   "outputs": [
    {
     "name": "stdin",
     "output_type": "stream",
     "text": [
      "Entrez un mot quelconque: (<enter> pour terminer) dd\n"
     ]
    },
    {
     "name": "stdout",
     "output_type": "stream",
     "text": [
      "Le mot dd precede le mot 'limonade' dans l'ordre alphabetique\n"
     ]
    },
    {
     "name": "stdin",
     "output_type": "stream",
     "text": [
      "Entrez un mot quelconque: (<enter> pour terminer) nn\n"
     ]
    },
    {
     "name": "stdout",
     "output_type": "stream",
     "text": [
      "Le mot nn suit le mot 'limonade' dans l'ordre alphabetique\n"
     ]
    },
    {
     "name": "stdin",
     "output_type": "stream",
     "text": [
      "Entrez un mot quelconque: (<enter> pour terminer) \n"
     ]
    }
   ],
   "source": [
    "while True:\n",
    "    mot=input(\"Entrez un mot quelconque: (<enter> pour terminer)\")\n",
    "    if mot ==\"\":\n",
    "        break\n",
    "    if mot<\"limonade\":\n",
    "        place=\"precede\"\n",
    "    elif mot>\"limonade\":\n",
    "        place=\"suit\"\n",
    "    print(\"Le mot\",mot,place,\"le mot 'limonade' dans l'ordre alphabetique\")"
   ]
  },
  {
   "cell_type": "code",
   "execution_count": 94,
   "id": "9e07b01e-526a-4c59-9a24-6a2254f13689",
   "metadata": {
    "tags": []
   },
   "outputs": [
    {
     "name": "stdin",
     "output_type": "stream",
     "text": [
      "tapiez une lettre ou'Q' pour quitter: d d\n",
      "tapiez une lettre ou'Q' pour quitter: Q\n"
     ]
    },
    {
     "name": "stdout",
     "output_type": "stream",
     "text": [
      "fin de la boucle\n"
     ]
    }
   ],
   "source": [
    "while 1:  \n",
    "    lettre = input(\"tapiez une lettre ou'Q' pour quitter:\")\n",
    "    if lettre == \"Q\": \n",
    "        print(\"fin de la boucle\")\n",
    "        break  \n"
   ]
  },
  {
   "cell_type": "code",
   "execution_count": 95,
   "id": "8a769adb-f483-4174-9efb-895d024b4de8",
   "metadata": {
    "tags": []
   },
   "outputs": [
    {
     "name": "stdout",
     "output_type": "stream",
     "text": [
      "la variable i= 1\n",
      "la variable i= 2\n",
      "on incremente i de 4.i est maintenant egale a 7\n",
      "la variable i= 7\n",
      "la variable i= 8\n",
      "on incremente i de 4.i est maintenant egale a 13\n",
      "la variable i= 13\n",
      "la variable i= 14\n",
      "on incremente i de 4.i est maintenant egale a 19\n",
      "la variable i= 19\n"
     ]
    }
   ],
   "source": [
    "i=1\n",
    "while i<20:\n",
    "    if i%3==0:\n",
    "        i+=4\n",
    "        print(\"on incremente i de 4.i est maintenant egale a\",i)\n",
    "        continue\n",
    "    print(\"la variable i=\",i)\n",
    "    i+=1"
   ]
  },
  {
   "cell_type": "code",
   "execution_count": 142,
   "id": "0fbc6b15-d8f0-4497-8383-cd1b03cfb1c3",
   "metadata": {
    "tags": []
   },
   "outputs": [
    {
     "name": "stdout",
     "output_type": "stream",
     "text": [
      "Jack\n",
      "Kack\n",
      "Lack\n",
      "Mack\n",
      "Nack\n",
      "Oack\n",
      "Pack\n",
      "Qack\n"
     ]
    }
   ],
   "source": [
    "# Exercice 1   On a 7 prénoms : Jack, Kack, Lack, Mack, Nack, Oack, Pack et Qack. \n",
    "# Ecrivez un petit script qui génère tous ces noms à partir\n",
    "# des deux chaînes suivantes : prefixes = 'JKLMNOPQ' et suffixe= 'ack'\n",
    "a='JKLMNOPQ'\n",
    "b='ack'\n",
    "c=len(a)\n",
    "d=0\n",
    "while d<c:\n",
    "    print(a[d]+b)\n",
    "    d+=1"
   ]
  },
  {
   "cell_type": "code",
   "execution_count": 196,
   "id": "96d3378d-4964-4200-961f-b086a2e4d527",
   "metadata": {
    "tags": []
   },
   "outputs": [
    {
     "name": "stdout",
     "output_type": "stream",
     "text": [
      "Jack\n",
      "Kack\n",
      "Lack\n",
      "Mack\n",
      "Nack\n",
      "Oack\n",
      "Pack\n",
      "Qack\n"
     ]
    }
   ],
   "source": [
    "# Correction - Exercice1\n",
    "prefixes=\"JKLMNOPQ\"\n",
    "suffixe =\"ack\"\n",
    "for lettre in prefixes:\n",
    "    print(lettre+suffixe)    "
   ]
  },
  {
   "cell_type": "code",
   "execution_count": 197,
   "id": "1fce45f1-40f7-4349-92db-8597b880a094",
   "metadata": {
    "tags": []
   },
   "outputs": [
    {
     "ename": "IndentationError",
     "evalue": "expected an indented block after 'for' statement on line 3 (248520603.py, line 4)",
     "output_type": "error",
     "traceback": [
      "\u001b[0;36m  Cell \u001b[0;32mIn[197], line 4\u001b[0;36m\u001b[0m\n\u001b[0;31m    prenom=lettre+suffixe\u001b[0m\n\u001b[0m    ^\u001b[0m\n\u001b[0;31mIndentationError\u001b[0m\u001b[0;31m:\u001b[0m expected an indented block after 'for' statement on line 3\n"
     ]
    }
   ],
   "source": [
    "prefixes=\"JKLMNOPQ\"\n",
    "suffixe =\"ack\"\n",
    "for lettre in prefixes:\n",
    "prenom=lettre+suffixe"
   ]
  },
  {
   "cell_type": "code",
   "execution_count": 204,
   "id": "03b46ad0-7bad-402d-a0a1-927a0c49deaf",
   "metadata": {
    "tags": []
   },
   "outputs": [],
   "source": [
    "#Exercice 2 Ecrire un script qui détermine si une chaîne contient ou non le caractère « e »\n",
    "a=\"hllo\"\n",
    "voyelle=\"e\"\n",
    "b=len(a)\n",
    "c=0\n",
    "while c<b:\n",
    "    if a[c] in voyelle:\n",
    "        print(a[c])\n",
    "    c+=1"
   ]
  },
  {
   "cell_type": "code",
   "execution_count": null,
   "id": "0c558302-d7f2-4dd4-a7fa-4d6d0292344d",
   "metadata": {},
   "outputs": [],
   "source": [
    "# Correction - Exercice2\n",
    "ch=input(\"Entrew une chaine\")\n",
    "if ch in ch:\n",
    "    print('Oui\")\n",
    "else:\n",
    "    print(\"Non\")"
   ]
  },
  {
   "cell_type": "code",
   "execution_count": 209,
   "id": "1952feb8-b086-4c52-a5d8-6328f252ef14",
   "metadata": {
    "tags": []
   },
   "outputs": [
    {
     "name": "stdin",
     "output_type": "stream",
     "text": [
      "Entrez une chaine de caractere: El\n"
     ]
    },
    {
     "name": "stdout",
     "output_type": "stream",
     "text": [
      "Oui\n"
     ]
    }
   ],
   "source": [
    "chaine=input(\"Entrez une chaine de caractere:\")\n",
    "if 'e' in chaine.lower():\n",
    "    print(\"Oui\")\n",
    "else:\n",
    "    print(\"Non\")"
   ]
  },
  {
   "cell_type": "code",
   "execution_count": 145,
   "id": "a948ff93-6188-4394-af5a-63968ffc27d7",
   "metadata": {
    "tags": []
   },
   "outputs": [
    {
     "name": "stdout",
     "output_type": "stream",
     "text": [
      "*\n",
      "o\n",
      "u\n",
      "*\n",
      "i\n",
      "*\n",
      "e\n"
     ]
    }
   ],
   "source": [
    "# Exercice 3  Ecrire un script qui parcourt une chaine : lorsqu’il rencontre une voyelle, il l’affiche, \n",
    "# si c’est une consonne, il met « * »\n",
    "a=\"sourire\"\n",
    "voyelles=\"aoeiu\"\n",
    "b=len(a)\n",
    "c=0\n",
    "while c<b:\n",
    "    if a[c] in voyelles:\n",
    "        print(a[c])\n",
    "        c+=1\n",
    "    else:\n",
    "        print(\"*\")\n",
    "        c+=1"
   ]
  },
  {
   "cell_type": "code",
   "execution_count": 214,
   "id": "5a6d4975-93d6-4a18-9b4d-689fa1e223ca",
   "metadata": {},
   "outputs": [
    {
     "name": "stdin",
     "output_type": "stream",
     "text": [
      "Entrez une chaine de car,: eiucfncz\n"
     ]
    },
    {
     "name": "stdout",
     "output_type": "stream",
     "text": [
      "e i u * * * * * "
     ]
    }
   ],
   "source": [
    "# Correction-Exercice3\n",
    "ch=input(\"Entrez une chaine de car,:\")\n",
    "voyelles=\"aoeiuAOEY\"\n",
    "for letter in ch:\n",
    "    if letter in voyelles:\n",
    "        print(letter,end=\" \")\n",
    "    else:\n",
    "        print(\"*\",end=\" \")"
   ]
  },
  {
   "cell_type": "code",
   "execution_count": 218,
   "id": "cc4a048f-952a-4af5-a786-68c6edb33164",
   "metadata": {
    "tags": []
   },
   "outputs": [
    {
     "name": "stdin",
     "output_type": "stream",
     "text": [
      "Entrez une chaine de car.,: IUOAy\n"
     ]
    },
    {
     "name": "stdout",
     "output_type": "stream",
     "text": [
      "iuoa*"
     ]
    }
   ],
   "source": [
    "ch=input(\"Entrez une chaine de car.,:\")\n",
    "voyelles=\"aeoiu\"\n",
    "i=0\n",
    "while i<len(ch):\n",
    "    if ch[i].lower() in voyelles:\n",
    "        print(ch[i].lower(),end=\"\")\n",
    "    else:\n",
    "        print(\"*\",end=\"\")\n",
    "    i+=1\n",
    "    "
   ]
  },
  {
   "cell_type": "code",
   "execution_count": 128,
   "id": "2b1a5cb2-5e85-4f22-b30b-dff103931f57",
   "metadata": {
    "tags": []
   },
   "outputs": [
    {
     "name": "stdout",
     "output_type": "stream",
     "text": [
      "h*e*l*l*o\n"
     ]
    }
   ],
   "source": [
    "# Exercice 4   Ecrire un script qui recopie une chaîne (dans une nouvelle variable), \n",
    "# en insérant des astérisques entre les caractères – Exemple : « iris » devra devenir « i*r*i*s »\n",
    "a=\"h e l l o\"\n",
    "b=(a.replace(\" \",\"*\"))\n",
    "print(b)"
   ]
  },
  {
   "cell_type": "code",
   "execution_count": 156,
   "id": "fab133a1-32cf-4d80-828d-fadebf0a4ec6",
   "metadata": {
    "tags": []
   },
   "outputs": [
    {
     "name": "stdin",
     "output_type": "stream",
     "text": [
      "Entrez une chaine: hello\n"
     ]
    },
    {
     "name": "stdout",
     "output_type": "stream",
     "text": [
      "h*e*l*o\n"
     ]
    }
   ],
   "source": [
    "# Correction-Exercice 4\n",
    "ch=input(\"Entrez une chaine:\")\n",
    "a=\"\"\n",
    "for i in range(len(ch)-2):\n",
    "    a=a+ch[i]+\"*\"\n",
    "print(a+ch[(len(ch)-1)])\n",
    "           "
   ]
  },
  {
   "cell_type": "code",
   "execution_count": 144,
   "id": "b4d5779a-4783-43b0-bf5d-e81013e7ac1f",
   "metadata": {
    "tags": []
   },
   "outputs": [
    {
     "name": "stdout",
     "output_type": "stream",
     "text": [
      "olleh\n"
     ]
    }
   ],
   "source": [
    "# Exercice 5   Ecrire un script qui recopie une chaîne (dans une nouvelle variable) en l’inversant\n",
    "# Exemple : « iris » devra devenir « siri »\n",
    "a=\"hello\"\n",
    "b=(a[-1]+a[-2]+a[-3]+a[-4]+a[-5])\n",
    "print(b)"
   ]
  },
  {
   "cell_type": "code",
   "execution_count": 148,
   "id": "f18923bb-0192-4eee-ad05-590c1cfb0c8a",
   "metadata": {
    "tags": []
   },
   "outputs": [
    {
     "name": "stdout",
     "output_type": "stream",
     "text": [
      "olleh\n"
     ]
    }
   ],
   "source": [
    "# Correction - Exercice5\n",
    "a=\"hello\"\n",
    "b=a[::-1]\n",
    "print(b)"
   ]
  },
  {
   "cell_type": "code",
   "execution_count": 130,
   "id": "b619a078-f1c4-43c6-9cab-781a3cc738bc",
   "metadata": {
    "tags": []
   },
   "outputs": [
    {
     "name": "stdout",
     "output_type": "stream",
     "text": [
      "Devinez le juste prix ! Le prix est un nombre compris entre 1 et 10 inclus.\n"
     ]
    }
   ],
   "source": [
    "# pour les avancees\n",
    "import random\n",
    "prix = random.randint(1, 10)\n",
    "tentatives = 0\n",
    "print(\"Devinez le juste prix ! Le prix est un nombre compris entre 1 et 10 inclus.\")"
   ]
  },
  {
   "cell_type": "code",
   "execution_count": null,
   "id": "a196710b-9f4f-40d2-bb4a-e2dd1f089085",
   "metadata": {},
   "outputs": [],
   "source": [
    "import random as rd\n",
    "rdm=rd.randint(1,10)\n",
    "rep=0\n",
    "while rep!=rdm:\n",
    "    entree=input(\"devinew\")\n",
    "    rep=int(entree)\n",
    "    if rep<rdm:\n",
    "        print(\"trop petit\")\n",
    "    elif rep==rdm:\n",
    "        print(\"Bravo!\")\n",
    "    else:\n",
    "        print(\"Trop grand\")"
   ]
  },
  {
   "cell_type": "code",
   "execution_count": null,
   "id": "087a32f8-f39d-47fd-bbb5-14ebd8811891",
   "metadata": {},
   "outputs": [],
   "source": []
  },
  {
   "cell_type": "code",
   "execution_count": null,
   "id": "00739cc0-cc59-43c6-9030-e996b2b6e1e0",
   "metadata": {},
   "outputs": [],
   "source": [
    "#10月10日第三次课"
   ]
  },
  {
   "cell_type": "code",
   "execution_count": 157,
   "id": "92073557-ee3c-409f-97c6-73cdb75e73bd",
   "metadata": {
    "tags": []
   },
   "outputs": [
    {
     "name": "stdout",
     "output_type": "stream",
     "text": [
      "['lundi', 'merdi', 'mercredi', 1800]\n",
      "['lundi', 'merdi', 'mercredi', 1847]\n"
     ]
    }
   ],
   "source": [
    "jour=['lundi','merdi','mercredi',1800]\n",
    "print(jour)\n",
    "jour[3]=jour[3]+47\n",
    "print(jour)"
   ]
  },
  {
   "cell_type": "code",
   "execution_count": 158,
   "id": "1c24e3f4-75a6-4f63-af43-25329f6c26f8",
   "metadata": {
    "tags": []
   },
   "outputs": [
    {
     "name": "stdout",
     "output_type": "stream",
     "text": [
      "['lundi', 'merdi', 'mercredi', 'Juillet']\n"
     ]
    }
   ],
   "source": [
    "jour[3]='Juillet'\n",
    "print(jour)"
   ]
  },
  {
   "cell_type": "code",
   "execution_count": 161,
   "id": "ab2c0267-a23a-43a9-9189-011a7a10afab",
   "metadata": {
    "tags": []
   },
   "outputs": [
    {
     "name": "stdout",
     "output_type": "stream",
     "text": [
      "['lundi', 'merdi', 'mercredi']\n"
     ]
    }
   ],
   "source": [
    "del(jour[3])\n",
    "print(jour)"
   ]
  },
  {
   "cell_type": "code",
   "execution_count": 163,
   "id": "0e707db9-b320-43e8-af2d-fe93fb58658f",
   "metadata": {
    "tags": []
   },
   "outputs": [
    {
     "data": {
      "text/plain": [
       "[10, 17, 25, 38, 72]"
      ]
     },
     "execution_count": 163,
     "metadata": {},
     "output_type": "execute_result"
    }
   ],
   "source": [
    "nombres=[17,38,10,25,72]\n",
    "nombres.sort()\n",
    "nombres"
   ]
  },
  {
   "cell_type": "code",
   "execution_count": 164,
   "id": "3aeeb84b-2384-4344-bebc-f5f1d375921c",
   "metadata": {
    "tags": []
   },
   "outputs": [
    {
     "data": {
      "text/plain": [
       "[10, 17, 25, 38, 72, 12]"
      ]
     },
     "execution_count": 164,
     "metadata": {},
     "output_type": "execute_result"
    }
   ],
   "source": [
    "nombres.append(12)\n",
    "nombres"
   ]
  },
  {
   "cell_type": "code",
   "execution_count": 165,
   "id": "fe6eefae-610f-4531-81c6-5ab290d219ad",
   "metadata": {
    "tags": []
   },
   "outputs": [
    {
     "data": {
      "text/plain": [
       "[12, 72, 38, 25, 17, 10]"
      ]
     },
     "execution_count": 165,
     "metadata": {},
     "output_type": "execute_result"
    }
   ],
   "source": [
    "nombres.reverse()\n",
    "nombres"
   ]
  },
  {
   "cell_type": "code",
   "execution_count": 166,
   "id": "3b9dcfb5-35c6-4e5d-b581-a0caaf8eeba9",
   "metadata": {
    "tags": []
   },
   "outputs": [
    {
     "data": {
      "text/plain": [
       "4"
      ]
     },
     "execution_count": 166,
     "metadata": {},
     "output_type": "execute_result"
    }
   ],
   "source": [
    "nombres.index(17)"
   ]
  },
  {
   "cell_type": "code",
   "execution_count": 167,
   "id": "5baa2a18-0661-4f35-8954-3f90edfa3d4d",
   "metadata": {
    "tags": []
   },
   "outputs": [
    {
     "data": {
      "text/plain": [
       "[12, 72, 25, 17, 10]"
      ]
     },
     "execution_count": 167,
     "metadata": {},
     "output_type": "execute_result"
    }
   ],
   "source": [
    "nombres.remove(38)\n",
    "nombres"
   ]
  },
  {
   "cell_type": "code",
   "execution_count": 169,
   "id": "729d8525-ed8e-4cd5-bdad-d08e2ec3dd78",
   "metadata": {
    "tags": []
   },
   "outputs": [
    {
     "name": "stdout",
     "output_type": "stream",
     "text": [
      "[1, 2, 3, 7]\n"
     ]
    }
   ],
   "source": [
    "liste=[1,2,3]\n",
    "liste.append(7)\n",
    "print(liste)"
   ]
  },
  {
   "cell_type": "code",
   "execution_count": 170,
   "id": "884144eb-153f-48b7-a214-2d19cb98a914",
   "metadata": {
    "tags": []
   },
   "outputs": [
    {
     "name": "stdout",
     "output_type": "stream",
     "text": [
      "[1, 2, 'c', 3, 7]\n"
     ]
    }
   ],
   "source": [
    "liste.insert(2,'c')\n",
    "print(liste)"
   ]
  },
  {
   "cell_type": "code",
   "execution_count": 172,
   "id": "d166199b-a366-492e-b0be-e23b7adf954a",
   "metadata": {
    "tags": []
   },
   "outputs": [
    {
     "name": "stdout",
     "output_type": "stream",
     "text": [
      "[1, 2, 3, 6, 7, 8]\n"
     ]
    }
   ],
   "source": [
    "liste1=[1,2,3]\n",
    "liste2=[6,7,8]\n",
    "liste1.extend(liste2)\n",
    "print(liste1)"
   ]
  },
  {
   "cell_type": "code",
   "execution_count": 178,
   "id": "5edeb782-fc0c-4623-bc9b-af56e5856fe2",
   "metadata": {
    "tags": []
   },
   "outputs": [
    {
     "data": {
      "text/plain": [
       "['jambon', 'fromage', 'miel', 'confiture', 'chocolat']"
      ]
     },
     "execution_count": 178,
     "metadata": {},
     "output_type": "execute_result"
    }
   ],
   "source": [
    "mots=['jambon','fromage','confiture','chocolat']\n",
    "mots[2:2]=[\"miel\"]\n",
    "mots"
   ]
  },
  {
   "cell_type": "code",
   "execution_count": 179,
   "id": "c6044df2-333d-49bb-a3c0-e0f4972a1ca4",
   "metadata": {
    "tags": []
   },
   "outputs": [
    {
     "ename": "SyntaxError",
     "evalue": "unterminated string literal (detected at line 1) (2697533813.py, line 1)",
     "output_type": "error",
     "traceback": [
      "\u001b[0;36m  Cell \u001b[0;32mIn[179], line 1\u001b[0;36m\u001b[0m\n\u001b[0;31m    mots[5:5]=[\"saucisson\",\"ketchup']\u001b[0m\n\u001b[0m                           ^\u001b[0m\n\u001b[0;31mSyntaxError\u001b[0m\u001b[0;31m:\u001b[0m unterminated string literal (detected at line 1)\n"
     ]
    }
   ],
   "source": [
    "mots[5:5]=[\"saucisson\",\"ketchup']\n",
    "mots"
   ]
  },
  {
   "cell_type": "code",
   "execution_count": 184,
   "id": "970917ec-32c9-424e-8d1f-27aa0c285dc3",
   "metadata": {
    "tags": []
   },
   "outputs": [
    {
     "name": "stdout",
     "output_type": "stream",
     "text": [
      "0 il\n",
      "1 ai\n",
      "2 d\n",
      "3 d\n",
      "4 e\n"
     ]
    }
   ],
   "source": [
    "fable=['il','ai','d','d','e']\n",
    "for index in range(len(fable)):\n",
    "    print(index,fable[index])"
   ]
  },
  {
   "cell_type": "code",
   "execution_count": 186,
   "id": "54035313-257d-4a51-b6d1-c57e6449b07e",
   "metadata": {
    "tags": []
   },
   "outputs": [
    {
     "name": "stdout",
     "output_type": "stream",
     "text": [
      "-6\n",
      "3\n",
      "4\n",
      "5\n",
      "7\n",
      "9\n",
      "[4, 5, 3, -6, 7, 9]\n"
     ]
    }
   ],
   "source": [
    "li=[4,5,3,-6,7,9]\n",
    "for n in sorted(li):\n",
    "    print(n)\n",
    "print(li)"
   ]
  },
  {
   "cell_type": "code",
   "execution_count": 187,
   "id": "e62df36c-9cd6-4cbe-ba63-907fe3492faa",
   "metadata": {
    "tags": []
   },
   "outputs": [
    {
     "data": {
      "text/plain": [
       "[2, 3, 4, 5, 5]"
      ]
     },
     "execution_count": 187,
     "metadata": {},
     "output_type": "execute_result"
    }
   ],
   "source": [
    "a=[5,2,3,4,5]\n",
    "a.sort()\n",
    "a"
   ]
  },
  {
   "cell_type": "code",
   "execution_count": null,
   "id": "d0db382a-b557-42a0-ad77-27eaa722ca38",
   "metadata": {},
   "outputs": [],
   "source": [
    "# Exercice\n",
    "l=[3,6,2,7,9]"
   ]
  }
 ],
 "metadata": {
  "kernelspec": {
   "display_name": "Python 3 (ipykernel)",
   "language": "python",
   "name": "python3"
  },
  "language_info": {
   "codemirror_mode": {
    "name": "ipython",
    "version": 3
   },
   "file_extension": ".py",
   "mimetype": "text/x-python",
   "name": "python",
   "nbconvert_exporter": "python",
   "pygments_lexer": "ipython3",
   "version": "3.11.5"
  }
 },
 "nbformat": 4,
 "nbformat_minor": 5
}
